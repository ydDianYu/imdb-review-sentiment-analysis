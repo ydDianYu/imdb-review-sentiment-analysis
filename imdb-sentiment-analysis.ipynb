{
 "cells": [
  {
   "cell_type": "code",
   "execution_count": 1,
   "metadata": {},
   "outputs": [],
   "source": [
    "import pandas as pd\n",
    "import numpy as np\n",
    "import matplotlib.pyplot as plt\n",
    "%matplotlib inline"
   ]
  },
  {
   "cell_type": "markdown",
   "metadata": {},
   "source": [
    "## Explore the Data"
   ]
  },
  {
   "cell_type": "code",
   "execution_count": 2,
   "metadata": {},
   "outputs": [],
   "source": [
    "data = pd.read_csv(\"dataset/IMDB Dataset.csv\")"
   ]
  },
  {
   "cell_type": "code",
   "execution_count": 3,
   "metadata": {},
   "outputs": [
    {
     "data": {
      "text/html": [
       "<div>\n",
       "<style scoped>\n",
       "    .dataframe tbody tr th:only-of-type {\n",
       "        vertical-align: middle;\n",
       "    }\n",
       "\n",
       "    .dataframe tbody tr th {\n",
       "        vertical-align: top;\n",
       "    }\n",
       "\n",
       "    .dataframe thead th {\n",
       "        text-align: right;\n",
       "    }\n",
       "</style>\n",
       "<table border=\"1\" class=\"dataframe\">\n",
       "  <thead>\n",
       "    <tr style=\"text-align: right;\">\n",
       "      <th></th>\n",
       "      <th>review</th>\n",
       "      <th>sentiment</th>\n",
       "    </tr>\n",
       "  </thead>\n",
       "  <tbody>\n",
       "    <tr>\n",
       "      <th>0</th>\n",
       "      <td>One of the other reviewers has mentioned that ...</td>\n",
       "      <td>positive</td>\n",
       "    </tr>\n",
       "    <tr>\n",
       "      <th>1</th>\n",
       "      <td>A wonderful little production. &lt;br /&gt;&lt;br /&gt;The...</td>\n",
       "      <td>positive</td>\n",
       "    </tr>\n",
       "    <tr>\n",
       "      <th>2</th>\n",
       "      <td>I thought this was a wonderful way to spend ti...</td>\n",
       "      <td>positive</td>\n",
       "    </tr>\n",
       "    <tr>\n",
       "      <th>3</th>\n",
       "      <td>Basically there's a family where a little boy ...</td>\n",
       "      <td>negative</td>\n",
       "    </tr>\n",
       "    <tr>\n",
       "      <th>4</th>\n",
       "      <td>Petter Mattei's \"Love in the Time of Money\" is...</td>\n",
       "      <td>positive</td>\n",
       "    </tr>\n",
       "  </tbody>\n",
       "</table>\n",
       "</div>"
      ],
      "text/plain": [
       "                                              review sentiment\n",
       "0  One of the other reviewers has mentioned that ...  positive\n",
       "1  A wonderful little production. <br /><br />The...  positive\n",
       "2  I thought this was a wonderful way to spend ti...  positive\n",
       "3  Basically there's a family where a little boy ...  negative\n",
       "4  Petter Mattei's \"Love in the Time of Money\" is...  positive"
      ]
     },
     "execution_count": 3,
     "metadata": {},
     "output_type": "execute_result"
    }
   ],
   "source": [
    "data.head()"
   ]
  },
  {
   "cell_type": "code",
   "execution_count": 4,
   "metadata": {},
   "outputs": [
    {
     "data": {
      "text/plain": [
       "negative    25000\n",
       "positive    25000\n",
       "Name: sentiment, dtype: int64"
      ]
     },
     "execution_count": 4,
     "metadata": {},
     "output_type": "execute_result"
    }
   ],
   "source": [
    "data[\"sentiment\"].value_counts()"
   ]
  },
  {
   "cell_type": "markdown",
   "metadata": {},
   "source": [
    "## Label Encoding"
   ]
  },
  {
   "cell_type": "code",
   "execution_count": 5,
   "metadata": {},
   "outputs": [
    {
     "data": {
      "text/html": [
       "<div>\n",
       "<style scoped>\n",
       "    .dataframe tbody tr th:only-of-type {\n",
       "        vertical-align: middle;\n",
       "    }\n",
       "\n",
       "    .dataframe tbody tr th {\n",
       "        vertical-align: top;\n",
       "    }\n",
       "\n",
       "    .dataframe thead th {\n",
       "        text-align: right;\n",
       "    }\n",
       "</style>\n",
       "<table border=\"1\" class=\"dataframe\">\n",
       "  <thead>\n",
       "    <tr style=\"text-align: right;\">\n",
       "      <th></th>\n",
       "      <th>review</th>\n",
       "      <th>sentiment</th>\n",
       "    </tr>\n",
       "  </thead>\n",
       "  <tbody>\n",
       "    <tr>\n",
       "      <th>0</th>\n",
       "      <td>One of the other reviewers has mentioned that ...</td>\n",
       "      <td>1</td>\n",
       "    </tr>\n",
       "    <tr>\n",
       "      <th>1</th>\n",
       "      <td>A wonderful little production. &lt;br /&gt;&lt;br /&gt;The...</td>\n",
       "      <td>1</td>\n",
       "    </tr>\n",
       "    <tr>\n",
       "      <th>2</th>\n",
       "      <td>I thought this was a wonderful way to spend ti...</td>\n",
       "      <td>1</td>\n",
       "    </tr>\n",
       "    <tr>\n",
       "      <th>3</th>\n",
       "      <td>Basically there's a family where a little boy ...</td>\n",
       "      <td>0</td>\n",
       "    </tr>\n",
       "    <tr>\n",
       "      <th>4</th>\n",
       "      <td>Petter Mattei's \"Love in the Time of Money\" is...</td>\n",
       "      <td>1</td>\n",
       "    </tr>\n",
       "  </tbody>\n",
       "</table>\n",
       "</div>"
      ],
      "text/plain": [
       "                                              review  sentiment\n",
       "0  One of the other reviewers has mentioned that ...          1\n",
       "1  A wonderful little production. <br /><br />The...          1\n",
       "2  I thought this was a wonderful way to spend ti...          1\n",
       "3  Basically there's a family where a little boy ...          0\n",
       "4  Petter Mattei's \"Love in the Time of Money\" is...          1"
      ]
     },
     "execution_count": 5,
     "metadata": {},
     "output_type": "execute_result"
    }
   ],
   "source": [
    "from sklearn import preprocessing\n",
    "\n",
    "label_encoder = preprocessing.LabelEncoder()\n",
    "data[\"sentiment\"] = label_encoder.fit_transform(data[\"sentiment\"])\n",
    "data.head()"
   ]
  },
  {
   "cell_type": "markdown",
   "metadata": {},
   "source": [
    "## Split Training and Test Sets"
   ]
  },
  {
   "cell_type": "code",
   "execution_count": 6,
   "metadata": {},
   "outputs": [],
   "source": [
    "from sklearn.model_selection import train_test_split\n",
    "\n",
    "data_train, data_test, train_label, test_label = train_test_split(data[\"review\"], data[\"sentiment\"], test_size = 0.25, random_state = 0)"
   ]
  },
  {
   "cell_type": "markdown",
   "metadata": {},
   "source": [
    "## Process a Sample Review "
   ]
  },
  {
   "cell_type": "code",
   "execution_count": 7,
   "metadata": {},
   "outputs": [
    {
     "data": {
      "text/plain": [
       "'Cage (1989) was another one of those low budget \"buddy\" action flicks that were produced during the 80\\'s thanks in large part due to the films such as 48hrs. and Lethal Weapon. This one stars Reb Brown and Lou Ferrigno as to former Vietnam Vets who happen to run a local dive bar. Reb takes care of Lou because he saved his life in \\'Nam. But Lou was shot in the head and is now pretty soft. Although he\\'s huge, Lou has the brain of a child. One day some ruffians throw their wait around in the bar and Lou and Rebb beat the tar out of them. But payback\\'s a mother. They crash the bar leaving Lou and Reb with nothing. That is until these two thugs come into the picture (one of them\\'s a real nice guy) who have a plan in mind.<br /><br />The film\\'s a waste of time. Maybe if they went all they way and made a hard core action flick instead of trying to tone down the gruesomeness of the situation perhaps it could have worked. Alas, it doesn\\'t and the audience is left holding the bag. Oh well. It\\'s too bad because you have all the elements for a great B-movie. Better luck next time, I guess.<br /><br />Not recommended.<br /><br />xxx'"
      ]
     },
     "execution_count": 7,
     "metadata": {},
     "output_type": "execute_result"
    }
   ],
   "source": [
    "sample_review = data_train.sample(1, random_state = 1).iloc[0]\n",
    "sample_review"
   ]
  },
  {
   "cell_type": "markdown",
   "metadata": {},
   "source": [
    "Before vectorization, it seems that we need to preprocess the reviews through several steps:\n",
    "1. Remove HTML contents such as \"<br \\/>\"\n",
    "2. Remove punctuations\n",
    "4. Turn all letters to lowercase\n",
    "3. Remove stopwords\n",
    "4. Apply Lemmatization"
   ]
  },
  {
   "cell_type": "markdown",
   "metadata": {},
   "source": [
    "#### Remove HTML Contents"
   ]
  },
  {
   "cell_type": "code",
   "execution_count": 8,
   "metadata": {},
   "outputs": [
    {
     "data": {
      "text/plain": [
       "'Cage (1989) was another one of those low budget \"buddy\" action flicks that were produced during the 80\\'s thanks in large part due to the films such as 48hrs. and Lethal Weapon. This one stars Reb Brown and Lou Ferrigno as to former Vietnam Vets who happen to run a local dive bar. Reb takes care of Lou because he saved his life in \\'Nam. But Lou was shot in the head and is now pretty soft. Although he\\'s huge, Lou has the brain of a child. One day some ruffians throw their wait around in the bar and Lou and Rebb beat the tar out of them. But payback\\'s a mother. They crash the bar leaving Lou and Reb with nothing. That is until these two thugs come into the picture (one of them\\'s a real nice guy) who have a plan in mind.The film\\'s a waste of time. Maybe if they went all they way and made a hard core action flick instead of trying to tone down the gruesomeness of the situation perhaps it could have worked. Alas, it doesn\\'t and the audience is left holding the bag. Oh well. It\\'s too bad because you have all the elements for a great B-movie. Better luck next time, I guess.Not recommended.xxx'"
      ]
     },
     "execution_count": 8,
     "metadata": {},
     "output_type": "execute_result"
    }
   ],
   "source": [
    "from bs4 import BeautifulSoup\n",
    "\n",
    "soup = BeautifulSoup(sample_review, \"html.parser\")\n",
    "sample_review = soup.get_text()\n",
    "sample_review"
   ]
  },
  {
   "cell_type": "markdown",
   "metadata": {},
   "source": [
    "#### Remove Punctuations"
   ]
  },
  {
   "cell_type": "code",
   "execution_count": 9,
   "metadata": {},
   "outputs": [
    {
     "data": {
      "text/plain": [
       "'Cage  1989  was another one of those low budget  buddy  action flicks that were produced during the 80 s thanks in large part due to the films such as 48hrs  and Lethal Weapon  This one stars Reb Brown and Lou Ferrigno as to former Vietnam Vets who happen to run a local dive bar  Reb takes care of Lou because he saved his life in  Nam  But Lou was shot in the head and is now pretty soft  Although he s huge  Lou has the brain of a child  One day some ruffians throw their wait around in the bar and Lou and Rebb beat the tar out of them  But payback s a mother  They crash the bar leaving Lou and Reb with nothing  That is until these two thugs come into the picture  one of them s a real nice guy  who have a plan in mind The film s a waste of time  Maybe if they went all they way and made a hard core action flick instead of trying to tone down the gruesomeness of the situation perhaps it could have worked  Alas  it doesn t and the audience is left holding the bag  Oh well  It s too bad because you have all the elements for a great B movie  Better luck next time  I guess Not recommended xxx'"
      ]
     },
     "execution_count": 9,
     "metadata": {},
     "output_type": "execute_result"
    }
   ],
   "source": [
    "import re\n",
    "\n",
    "sample_review = re.sub(r'[^\\w]', ' ', sample_review)\n",
    "sample_review"
   ]
  },
  {
   "cell_type": "markdown",
   "metadata": {},
   "source": [
    "#### Lowercase"
   ]
  },
  {
   "cell_type": "code",
   "execution_count": 10,
   "metadata": {},
   "outputs": [
    {
     "data": {
      "text/plain": [
       "'cage  1989  was another one of those low budget  buddy  action flicks that were produced during the 80 s thanks in large part due to the films such as 48hrs  and lethal weapon  this one stars reb brown and lou ferrigno as to former vietnam vets who happen to run a local dive bar  reb takes care of lou because he saved his life in  nam  but lou was shot in the head and is now pretty soft  although he s huge  lou has the brain of a child  one day some ruffians throw their wait around in the bar and lou and rebb beat the tar out of them  but payback s a mother  they crash the bar leaving lou and reb with nothing  that is until these two thugs come into the picture  one of them s a real nice guy  who have a plan in mind the film s a waste of time  maybe if they went all they way and made a hard core action flick instead of trying to tone down the gruesomeness of the situation perhaps it could have worked  alas  it doesn t and the audience is left holding the bag  oh well  it s too bad because you have all the elements for a great b movie  better luck next time  i guess not recommended xxx'"
      ]
     },
     "execution_count": 10,
     "metadata": {},
     "output_type": "execute_result"
    }
   ],
   "source": [
    "sample_review = sample_review.lower()\n",
    "sample_review"
   ]
  },
  {
   "cell_type": "markdown",
   "metadata": {},
   "source": [
    "#### Remove Stopwords"
   ]
  },
  {
   "cell_type": "code",
   "execution_count": 11,
   "metadata": {
    "scrolled": true
   },
   "outputs": [
    {
     "data": {
      "text/plain": [
       "'cage 1989 another one low budget buddy action flicks produced 80 thanks large part due films 48hrs lethal weapon one stars reb brown lou ferrigno former vietnam vets happen run local dive bar reb takes care lou saved life nam lou shot head pretty soft although huge lou brain child one day ruffians throw wait around bar lou rebb beat tar payback mother crash bar leaving lou reb nothing two thugs come picture one real nice guy plan mind film waste time maybe went way made hard core action flick instead trying tone gruesomeness situation perhaps could worked alas audience left holding bag oh well bad elements great b movie better luck next time guess recommended xxx'"
      ]
     },
     "execution_count": 11,
     "metadata": {},
     "output_type": "execute_result"
    }
   ],
   "source": [
    "import nltk\n",
    "from nltk.corpus import stopwords\n",
    "#nltk.download('stopwords')\n",
    "\n",
    "word_lst = sample_review.split()\n",
    "stop_words = set(stopwords.words(\"english\"))\n",
    "sample_review = \" \".join([word for word in word_lst if word not in stop_words])\n",
    "sample_review"
   ]
  },
  {
   "cell_type": "markdown",
   "metadata": {},
   "source": [
    "#### Lemmatization"
   ]
  },
  {
   "cell_type": "code",
   "execution_count": 12,
   "metadata": {},
   "outputs": [
    {
     "data": {
      "text/plain": [
       "'cage 1989 another one low budget buddy action flick produced 80 thanks large part due film 48hrs lethal weapon one star reb brown lou ferrigno former vietnam vet happen run local dive bar reb take care lou saved life nam lou shot head pretty soft although huge lou brain child one day ruffian throw wait around bar lou rebb beat tar payback mother crash bar leaving lou reb nothing two thug come picture one real nice guy plan mind film waste time maybe went way made hard core action flick instead trying tone gruesomeness situation perhaps could worked ala audience left holding bag oh well bad element great b movie better luck next time guess recommended xxx'"
      ]
     },
     "execution_count": 12,
     "metadata": {},
     "output_type": "execute_result"
    }
   ],
   "source": [
    "from nltk.stem import WordNetLemmatizer\n",
    "#nltk.download('wordnet')\n",
    "\n",
    "lem = WordNetLemmatizer()\n",
    "word_lst = sample_review.split()\n",
    "sample_review = \" \".join([lem.lemmatize(word) for word in word_lst])\n",
    "sample_review"
   ]
  },
  {
   "cell_type": "markdown",
   "metadata": {},
   "source": [
    "#### Bring All Steps into a Function"
   ]
  },
  {
   "cell_type": "code",
   "execution_count": 13,
   "metadata": {},
   "outputs": [],
   "source": [
    "def review_processor(review):\n",
    "    soup = BeautifulSoup(review, \"html.parser\")\n",
    "    html_parsed = soup.get_text()\n",
    "    punct_removed = re.sub(r'[^\\w]', ' ', html_parsed)\n",
    "    lowercase = punct_removed.lower()\n",
    "    word_lst = lowercase.split()\n",
    "    stopword_removed = [word for word in word_lst if word not in set(stopwords.words('english'))]\n",
    "    lem = WordNetLemmatizer()\n",
    "    lemmatized = [lem.lemmatize(word) for word in stopword_removed]\n",
    "    res = \" \".join(lemmatized)\n",
    "    return res"
   ]
  },
  {
   "cell_type": "code",
   "execution_count": 14,
   "metadata": {},
   "outputs": [
    {
     "data": {
      "text/plain": [
       "'cage 1989 another one low budget buddy action flick produced 80 thanks large part due film 48hrs lethal weapon one star reb brown lou ferrigno former vietnam vet happen run local dive bar reb take care lou saved life nam lou shot head pretty soft although huge lou brain child one day ruffian throw wait around bar lou rebb beat tar payback mother crash bar leaving lou reb nothing two thug come picture one real nice guy plan mind film waste time maybe went way made hard core action flick instead trying tone gruesomeness situation perhaps could worked ala audience left holding bag oh well bad element great b movie better luck next time guess recommended xxx'"
      ]
     },
     "execution_count": 14,
     "metadata": {},
     "output_type": "execute_result"
    }
   ],
   "source": [
    "sample_review = data_train.sample(1, random_state = 1).iloc[0]\n",
    "review_processor(sample_review)"
   ]
  }
 ],
 "metadata": {
  "kernelspec": {
   "display_name": "Python 3",
   "language": "python",
   "name": "python3"
  },
  "language_info": {
   "codemirror_mode": {
    "name": "ipython",
    "version": 3
   },
   "file_extension": ".py",
   "mimetype": "text/x-python",
   "name": "python",
   "nbconvert_exporter": "python",
   "pygments_lexer": "ipython3",
   "version": "3.7.7"
  }
 },
 "nbformat": 4,
 "nbformat_minor": 4
}
